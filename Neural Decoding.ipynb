{
 "cells": [
  {
   "cell_type": "markdown",
   "metadata": {},
   "source": [
    "<h4> Finding Cutoff Threshold For Probability Loss Function </h4>\n",
    "- here, the objective is to find the best decision threshold for choosing between 2 different stimuli (s1 and s2) where we incur a loss function stating that it is twice as bad to incorrectly choose s2 than it is to choose s1"
   ]
  },
  {
   "cell_type": "code",
   "execution_count": 67,
   "metadata": {},
   "outputs": [],
   "source": [
    "import numpy as np\n",
    "import pandas as pd\n",
    "import math\n",
    "import matplotlib.pyplot as plt\n",
    "import matplotlib.mlab as mlab\n",
    "from scipy import stats"
   ]
  },
  {
   "cell_type": "markdown",
   "metadata": {},
   "source": [
    "<h4> Creating a visual of the 2 different probability distributions and the cutoff metric: </h4>"
   ]
  },
  {
   "cell_type": "code",
   "execution_count": 38,
   "metadata": {},
   "outputs": [],
   "source": [
    "def graph_pdf(mu1, sigma1, mu2, sigma2, cutoff):\n",
    "    x1 = np.linspace(mu1 - 3*sigma1, mu1+3*sigma1, 100)\n",
    "    x2 = np.linspace(mu2 - 3*sigma2, mu2+3*sigma2, 100)\n",
    "    plt.plot(x1, scipy.stats.norm.pdf(x1, mu1, sigma1))\n",
    "    plt.plot(x2, scipy.stats.norm.pdf(x2, mu2, sigma2))\n",
    "    plt.axvline(x=cutoff, c='r')\n",
    "    plt.show()"
   ]
  },
  {
   "cell_type": "code",
   "execution_count": 83,
   "metadata": {},
   "outputs": [
    {
     "data": {
      "image/png": "[encoded data removed]",
      "text/plain": [
       "<Figure size 432x288 with 1 Axes>"
      ]
     },
     "metadata": {},
     "output_type": "display_data"
    }
   ],
   "source": [
    "# stimulus s1: mu=5, std. dev. = 0.5\n",
    "# stimulus s2: mu=7, std.dev. = 1\n",
    "# cutoff for choosing stimulus s2 over s1 = 5.978\n",
    "graph_pdf(5, 0.5, 7, 1, 5.83)"
   ]
  },
  {
   "cell_type": "markdown",
   "metadata": {},
   "source": [
    "<h4> Calculating the Probability Density Function: </h4>"
   ]
  },
  {
   "cell_type": "code",
   "execution_count": 87,
   "metadata": {},
   "outputs": [],
   "source": [
    "def compute_pdf(mu1, sigma1, x1):\n",
    "    out = (1/(math.sqrt(2*math.pi*(sigma1**2))))*(math.exp(-(((x1-mu1)**2)/(2*sigma1**2))))\n",
    "    return out\n",
    "\n",
    "# could also use: scipy.stats.norm.pdf(x, mu, sigma) but that's no fun"
   ]
  },
  {
   "cell_type": "markdown",
   "metadata": {},
   "source": [
    "- We want to choose the cutoff where the pdf for s2 is twice as big as the pdf for s1"
   ]
  },
  {
   "cell_type": "code",
   "execution_count": 86,
   "metadata": {},
   "outputs": [
    {
     "data": {
      "text/plain": [
       "1.0002028400093081"
      ]
     },
     "execution_count": 86,
     "metadata": {},
     "output_type": "execute_result"
    }
   ],
   "source": [
    "# this is where the two graphs intersect:\n",
    "compute_pdf(7,1,5.83)/compute_pdf(5, 0.5, 5.83)"
   ]
  },
  {
   "cell_type": "code",
   "execution_count": 85,
   "metadata": {},
   "outputs": [
    {
     "data": {
      "text/plain": [
       "2.0088829462271613"
      ]
     },
     "execution_count": 85,
     "metadata": {},
     "output_type": "execute_result"
    }
   ],
   "source": [
    "# this is what we're looking for:\n",
    "compute_pdf(7,1,5.978)/compute_pdf(5, 0.5, 5.978)"
   ]
  },
  {
   "cell_type": "markdown",
   "metadata": {},
   "source": [
    "<h4> Calculating the integral to find the area under the curve: </h4>"
   ]
  },
  {
   "cell_type": "code",
   "execution_count": 58,
   "metadata": {},
   "outputs": [
    {
     "name": "stdout",
     "output_type": "stream",
     "text": [
      "0.9999999999996152\n"
     ]
    }
   ],
   "source": [
    "mean = 0\n",
    "var = 1\n",
    "curr_sample = np.linspace(-10,10,10000)\n",
    "prob = np.sum( 1/(np.sqrt(2*np.pi*var))*np.exp( -( ((curr_sample - mean)**2)/(2*var) ) ) * (curr_sample[1]-curr_sample[0]) )\n",
    "print(prob)"
   ]
  },
  {
   "cell_type": "code",
   "execution_count": null,
   "metadata": {},
   "outputs": [],
   "source": []
  },
  {
   "cell_type": "code",
   "execution_count": null,
   "metadata": {},
   "outputs": [],
   "source": []
  },
  {
   "cell_type": "code",
   "execution_count": null,
   "metadata": {},
   "outputs": [],
   "source": []
  }
 ],
 "metadata": {
  "kernelspec": {
   "display_name": "Python 3",
   "language": "python",
   "name": "python3"
  },
  "language_info": {
   "codemirror_mode": {
    "name": "ipython",
    "version": 3
   },
   "file_extension": ".py",
   "mimetype": "text/x-python",
   "name": "python",
   "nbconvert_exporter": "python",
   "pygments_lexer": "ipython3",
   "version": "3.6.5"
  }
 },
 "nbformat": 4,
 "nbformat_minor": 2
}
