{
 "cells": [
  {
   "cell_type": "code",
   "execution_count": 8,
   "metadata": {},
   "outputs": [],
   "source": [
    "from __future__ import division\n",
    "import numpy as np\n",
    "import matplotlib.pyplot as plt\n",
    "import pickle"
   ]
  },
  {
   "cell_type": "code",
   "execution_count": null,
   "metadata": {},
   "outputs": [],
   "source": []
  },
  {
   "cell_type": "code",
   "execution_count": null,
   "metadata": {},
   "outputs": [],
   "source": [
    "def compute_sta(stim, rho, num_timesteps):\n",
    "    \"\"\"Compute the spike-triggered average from a stimulus and spike-train.\n",
    "    \n",
    "    Args:\n",
    "        stim: stimulus time-series\n",
    "        rho: spike-train time-series\n",
    "        num_timesteps: how many timesteps to use in STA\n",
    "        \n",
    "    Returns:\n",
    "        spike-triggered average for specified number of timesteps before spike\"\"\"\n",
    "    \n",
    "    sta = np.zeros((num_timesteps,))\n",
    "    \n",
    "    # Get indices of all the spikes that occur after 300ms into the recording\n",
    "    spike_times = rho[num_timesteps:].nonzero()[0] + num_timesteps\n",
    "    \n",
    "    num_spikes = 3\n",
    "    \n",
    "    # Compute the spike-triggered average of the spikes found\n",
    "    \n",
    "    "
   ]
  }
 ],
 "metadata": {
  "kernelspec": {
   "display_name": "Python 3",
   "language": "python",
   "name": "python3"
  },
  "language_info": {
   "codemirror_mode": {
    "name": "ipython",
    "version": 3
   },
   "file_extension": ".py",
   "mimetype": "text/x-python",
   "name": "python",
   "nbconvert_exporter": "python",
   "pygments_lexer": "ipython3",
   "version": "3.6.5"
  }
 },
 "nbformat": 4,
 "nbformat_minor": 2
}
